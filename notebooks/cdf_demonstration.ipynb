{
 "cells": [
  {
   "attachments": {},
   "cell_type": "markdown",
   "metadata": {},
   "source": [
    "This notebook demonstrates that as the x grid resolution is increased, the CDF approaches 1.\n",
    "It also shows that the CDF approaches 1 for bump_threshold and sharpen_alpha values of None and non-None. "
   ]
  },
  {
   "cell_type": "code",
   "execution_count": null,
   "metadata": {},
   "outputs": [],
   "source": [
    "import qp\n",
    "import qp_flexzboost\n",
    "from flexcode.basis_functions import BasisCoefs\n",
    "import matplotlib.pyplot as plt\n",
    "\n",
    "print(qp_flexzboost.__file__)\n",
    "print(qp.__file__)"
   ]
  },
  {
   "cell_type": "code",
   "execution_count": null,
   "metadata": {},
   "outputs": [],
   "source": [
    "# Retrieve some real world example coefficients (i.e. weights) that are used for testing.\n",
    "qp_flexzboost.FlexzboostGen.make_test_data()\n",
    "coefs = qp_flexzboost.FlexzboostGen.test_data['weights']"
   ]
  },
  {
   "cell_type": "code",
   "execution_count": null,
   "metadata": {},
   "outputs": [],
   "source": [
    "# Here we defined a BasisCoefs object with bump_threshold=sharpen_threshold=None. i.e. no bump removal or peak sharpening\n",
    "basis_coefficients = BasisCoefs(coefs,\n",
    "                                basis_system='cosine',\n",
    "                                z_min=0.0,\n",
    "                                z_max=3.0,\n",
    "                                bump_threshold=None,\n",
    "                                sharpen_alpha=None)"
   ]
  },
  {
   "cell_type": "code",
   "execution_count": null,
   "metadata": {},
   "outputs": [],
   "source": [
    "fzb = qp.Ensemble(qp_flexzboost.flexzboost_create_from_basis_coef_object,\n",
    "                  data=dict(weights=coefs, basis_coefficients_object=basis_coefficients))"
   ]
  },
  {
   "cell_type": "code",
   "execution_count": null,
   "metadata": {},
   "outputs": [],
   "source": [
    "pdf_id = 6\n",
    "x_course = np.linspace(0,3,100)\n",
    "x_fine = np.linspace(0,3,30000)"
   ]
  },
  {
   "cell_type": "code",
   "execution_count": null,
   "metadata": {},
   "outputs": [],
   "source": [
    "# Example PDF with no bump removal or peak sharpening\n",
    "qp.plotting.plot_native(fzb[pdf_id], xlim=[0,3])"
   ]
  },
  {
   "cell_type": "code",
   "execution_count": null,
   "metadata": {},
   "outputs": [],
   "source": [
    "# Demonstrate that CDFs approach 1 as grid resolution increases\n",
    "cdf_course = fzb[pdf_id].cdf(x_course)\n",
    "cdf_fine = fzb[pdf_id].cdf(x_fine)\n",
    "plt.plot(x_course, np.squeeze(cdf_course), label='Course')\n",
    "plt.plot(x_fine, np.squeeze(cdf_fine), label='Fine')\n",
    "plt.legend()\n",
    "\n",
    "print('Max CDF value, course grid:', np.max(cdf_course))\n",
    "print('Max CDF value, fine grid:', np.max(cdf_fine))"
   ]
  },
  {
   "cell_type": "code",
   "execution_count": null,
   "metadata": {},
   "outputs": [],
   "source": [
    "# Here we show that we can dynamically change the bump threshold and sharpening without rerunning the model.\n",
    "fzb.dist.bump_threshold = 0.1\n",
    "fzb.dist.sharpen_alpha = 1.2"
   ]
  },
  {
   "cell_type": "code",
   "execution_count": null,
   "metadata": {},
   "outputs": [],
   "source": [
    "pdf_id = 6\n",
    "x_course = np.linspace(0,3,100)\n",
    "x_fine = np.linspace(0,3,30000)"
   ]
  },
  {
   "cell_type": "code",
   "execution_count": null,
   "metadata": {},
   "outputs": [],
   "source": [
    "# Example PDF with bump removal and peak sharpening\n",
    "qp.plotting.plot_native(fzb[pdf_id], xlim=[0,3])"
   ]
  },
  {
   "cell_type": "code",
   "execution_count": null,
   "metadata": {},
   "outputs": [],
   "source": [
    "# Demonstrate that CDFs approach 1 as grid resolution increases\n",
    "cdf_course = fzb[pdf_id].cdf(x_course)\n",
    "cdf_fine = fzb[pdf_id].cdf(x_fine)\n",
    "plt.plot(x_course, np.squeeze(cdf_course), label='Course')\n",
    "plt.plot(x_fine, np.squeeze(cdf_fine), label='Fine')\n",
    "plt.legend()\n",
    "\n",
    "print('Max CDF value, course grid:', np.max(cdf_course))\n",
    "print('Max CDF value, fine grid:', np.max(cdf_fine))"
   ]
  }
 ],
 "metadata": {
  "kernelspec": {
   "display_name": "qp_flexzboost",
   "language": "python",
   "name": "python3"
  },
  "language_info": {
   "codemirror_mode": {
    "name": "ipython",
    "version": 3
   },
   "file_extension": ".py",
   "mimetype": "text/x-python",
   "name": "python",
   "nbconvert_exporter": "python",
   "pygments_lexer": "ipython3",
   "version": "3.10.9"
  }
 },
 "nbformat": 4,
 "nbformat_minor": 2
}
