{
 "cells": [
  {
   "cell_type": "code",
   "execution_count": null,
   "metadata": {},
   "outputs": [],
   "source": [
    "import os\n",
    "import qp\n",
    "import qp_flexzboost\n",
    "from flexcode.basis_functions import BasisCoefs\n",
    "import matplotlib.pyplot as plt\n",
    "import numpy as np\n",
    "\n",
    "print(qp_flexzboost.__file__)\n",
    "print(qp.__file__)"
   ]
  },
  {
   "cell_type": "code",
   "execution_count": null,
   "metadata": {},
   "outputs": [],
   "source": [
    "# Retrieve some real world example coefficients (i.e. weights) that are used for testing.\n",
    "qp_flexzboost.FlexzboostGen.make_test_data()\n",
    "coefs = qp_flexzboost.FlexzboostGen.test_data['weights']"
   ]
  },
  {
   "cell_type": "code",
   "execution_count": null,
   "metadata": {},
   "outputs": [],
   "source": [
    "# Demonstrate the creation of a `FlexCode.BasisCoefs` object.\n",
    "basis_coefficients = BasisCoefs(coefs,\n",
    "                                basis_system='cosine',\n",
    "                                z_min=0.0,\n",
    "                                z_max=3.0,\n",
    "                                bump_threshold=0.1,\n",
    "                                sharpen_alpha=1.2)"
   ]
  },
  {
   "cell_type": "code",
   "execution_count": null,
   "metadata": {},
   "outputs": [],
   "source": [
    "# Just an example to show how the basis_coefficient.evaluate method works.\n",
    "# Notice that it doesn't take a simple 1D x array.\n",
    "x = np.linspace(0,3,100)\n",
    "print(x.shape)\n",
    "x_vals = x.reshape(-1,1)\n",
    "print(x_vals.shape)\n",
    "y_vals = basis_coefficients.evaluate(x_vals)\n",
    "\n",
    "# I expected this to work, namely passing an array with size (10, 100) to the evaluate method. \n",
    "# The goal is to show that evaluate can handle different x values per PDF - even though \n",
    "# here it would just be repeating the same x values 10 times. There might be a bug\n",
    "# in the Flexcode code around basis_functions.py:44\n",
    "\n",
    "# xx_vals = np.tile(x, [10, 1])\n",
    "# print(xx_vals.shape)\n",
    "# yy_vals = basis_coefficients.evaluate(xx_vals)"
   ]
  },
  {
   "cell_type": "code",
   "execution_count": null,
   "metadata": {},
   "outputs": [],
   "source": [
    "#Demonstrate building the ensemble using either the BasisCoefs object or the individual properties of the BasisCoef object\n",
    "fzb = qp.Ensemble(qp_flexzboost.flexzboost_create_from_basis_coef_object, data=dict(weights=coefs, basis_coefficients_object=basis_coefficients))\n",
    "fzb2 = qp.Ensemble(qp_flexzboost.flexzboost, \n",
    "                   data=dict(weights=coefs, basis_system_enum_value=1, z_min=0.0, z_max=3.0, bump_threshold=0.1, sharpen_alpha=1.2))\n",
    "print(fzb.dist)\n",
    "print(fzb2.dist)"
   ]
  },
  {
   "cell_type": "code",
   "execution_count": null,
   "metadata": {},
   "outputs": [],
   "source": [
    "# Demonstrate that the output PDF values are the same regardless of whether the ensemble\n",
    "# is constructed with a BasisCoef or with the individual properties of the BasisCoef\n",
    "pdf_id = 6\n",
    "x = np.linspace(0,3,100)\n",
    "\n",
    "print(np.sum(fzb[pdf_id].pdf(x) - fzb2[pdf_id].pdf(x)))"
   ]
  },
  {
   "cell_type": "code",
   "execution_count": null,
   "metadata": {},
   "outputs": [],
   "source": [
    "# Demonstrate simple plotting of a single PDF in the ensemble\n",
    "qp.plotting.plot_native(fzb[pdf_id], xlim=[0,3])"
   ]
  },
  {
   "cell_type": "code",
   "execution_count": null,
   "metadata": {},
   "outputs": [],
   "source": [
    "# Demonstrate that CDFs work as expected\n",
    "\n",
    "# A single CDF from the ensemble\n",
    "plt.plot(x, np.squeeze(fzb[pdf_id].cdf(x)), linewidth=5)\n",
    "\n",
    "# Calculate the CDF for all distributions in the ensemble, and then select one\n",
    "cdfs = fzb.cdf(x)\n",
    "cdfs[pdf_id]\n",
    "plt.plot(x, cdfs[pdf_id], linestyle='--' )"
   ]
  },
  {
   "cell_type": "code",
   "execution_count": null,
   "metadata": {},
   "outputs": [],
   "source": [
    "# Demonstrate that building tables for output to disk works as expected.\n",
    "tabs = fzb.build_tables()\n",
    "print(tabs.keys())\n",
    "print(\"Meta Data\")\n",
    "print(tabs['meta'])\n",
    "print()\n",
    "print(\"Object Data\")\n",
    "print(tabs['data'])"
   ]
  },
  {
   "cell_type": "code",
   "execution_count": null,
   "metadata": {},
   "outputs": [],
   "source": [
    "# Demonstrate that the ensemble can be written to disk, and read back in with no loss of information\n",
    "\n",
    "output_fits = \"test_output.fits\"\n",
    "output_hdf5 = \"test_output.hdf5\"\n",
    "\n",
    "# delete the files if they already exist\n",
    "try:\n",
    "    os.unlink(output_hdf5)\n",
    "    os.unlink(output_fits)\n",
    "except FileNotFoundError:\n",
    "    pass\n",
    "\n",
    "# write out the files\n",
    "fzb.write_to(output_hdf5)\n",
    "print(\".hdf5 file size is:\", os.path.getsize(output_hdf5), \"bytes\")\n",
    "fzb.write_to(output_fits)\n",
    "print(\".fits file size is:\", os.path.getsize(output_fits), \"bytes\")\n",
    "\n",
    "# read the files back in\n",
    "fzb_reread_hdf5 = qp.read(output_hdf5)\n",
    "fzb_reread_fits = qp.read(output_fits)\n",
    "\n",
    "# Show that the number of PDFs is the same after reading in the files\n",
    "print(\"Initial number of pdfs:\", fzb.npdf)\n",
    "print(\"Recovered number of pdfs, hdf5:\", fzb_reread_hdf5.npdf)\n",
    "print(\"Recovered number of pdfs, fits:\", fzb_reread_fits.npdf)\n",
    "\n",
    "# Show that the plots for a given PDF are the same\n",
    "_, ax = qp.plotting.plot_native(fzb_reread_hdf5[pdf_id], xlim=[0,3])\n",
    "qp.plotting.plot_native(fzb_reread_fits[pdf_id], axes=ax)\n",
    "\n",
    "# Show that nothing has been lost in the file type storage methods\n",
    "pdf_hdf5 = fzb_reread_hdf5[pdf_id].pdf(x_vals)\n",
    "pdf_fits = fzb_reread_fits[pdf_id].pdf(x_vals)\n",
    "print(\"Total difference in file storage types:\", sum((pdf_fits-pdf_hdf5)**2))\n",
    "\n",
    "# show that all the parameters to define the BasisCoef object have been recovered\n",
    "print(\"Initial bump_threshold:\", fzb.dist.basis_coefficients.bump_threshold)\n",
    "print(\"Recovered fits bump_threshold:\", fzb_reread_fits.dist.basis_coefficients.bump_threshold)\n",
    "print(\"Recovered hdf5 bump_threshold:\", fzb_reread_hdf5.dist.basis_coefficients.bump_threshold)\n",
    "\n",
    "# delete the output files that were written\n",
    "try:\n",
    "    os.unlink(output_hdf5)\n",
    "    os.unlink(output_fits)\n",
    "except FileNotFoundError:\n",
    "    pass"
   ]
  },
  {
   "cell_type": "code",
   "execution_count": null,
   "metadata": {},
   "outputs": [],
   "source": [
    "# Demonstrate that the Flexzboost parameterization of the data can be converted\n",
    "# to other representations. For instance here, an interpolated grid.\n",
    "ens_interp = fzb.convert_to(qp.interp_gen, xvals=np.linspace(0,3,100))\n",
    "\n",
    "# Plot interpolated PDF (thick line)\n",
    "qp.plotting.plot_native(ens_interp[pdf_id], xlim=[0,3], linewidth=5)\n",
    "\n",
    "# Plot original, Flexzboost PDF (dashed line)\n",
    "plt.plot(x, np.squeeze(fzb[pdf_id].pdf(x)), linestyle='--')"
   ]
  },
  {
   "cell_type": "code",
   "execution_count": null,
   "metadata": {},
   "outputs": [],
   "source": [
    "#Demonstrating that the bump threshold and sharpening alpha parameters can be changed without rerunning the model.\n",
    "# Set the bump threshold and sharpening parameters to the original values\n",
    "fzb.dist.bump_threshold = 0.1\n",
    "fzb.dist.sharpen_alpha = 1.2\n",
    "\n",
    "# Plot original, Flexzboost PDF (dashed line)\n",
    "plt.plot(x, np.squeeze(fzb[pdf_id].pdf(x)), linewidth=5, label='Non-None bump and sharpen parameters')\n",
    "\n",
    "# remove the bump threshold and sharpening parameters\n",
    "fzb.dist.bump_threshold = None\n",
    "fzb.dist.sharpen_alpha = None\n",
    "\n",
    "plt.plot(x, np.squeeze(fzb[pdf_id].pdf(x)), label='bump_threshold=sharpen_alpha=None')\n",
    "plt.legend()"
   ]
  }
 ],
 "metadata": {
  "kernelspec": {
   "display_name": "qp_flexzboost",
   "language": "python",
   "name": "python3"
  },
  "language_info": {
   "codemirror_mode": {
    "name": "ipython",
    "version": 3
   },
   "file_extension": ".py",
   "mimetype": "text/x-python",
   "name": "python",
   "nbconvert_exporter": "python",
   "pygments_lexer": "ipython3",
   "version": "3.10.9"
  },
  "vscode": {
   "interpreter": {
    "hash": "b782472837430cb0ac7bfc664cb6cee9aac16517a9b63eb015381dc2d6c80e42"
   }
  }
 },
 "nbformat": 4,
 "nbformat_minor": 2
}
