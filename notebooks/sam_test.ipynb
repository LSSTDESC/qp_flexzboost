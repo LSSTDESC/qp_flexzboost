{
 "cells": [
  {
   "cell_type": "code",
   "execution_count": null,
   "id": "f88f0b80-5ae3-46ca-9497-9b635fe385ab",
   "metadata": {},
   "outputs": [],
   "source": [
    "from flexcode.basis_functions import BasisCoefs\n",
    "from qp_flexzboost.flexzboost_pdf import FlexzboostGen\n",
    "import qp_flexzboost"
   ]
  },
  {
   "cell_type": "code",
   "execution_count": null,
   "id": "ed2c2225-455c-4b72-9bad-33ac43489dae",
   "metadata": {},
   "outputs": [],
   "source": [
    "import numpy as np"
   ]
  },
  {
   "cell_type": "code",
   "execution_count": null,
   "id": "0fcbaa44-9ccf-4a58-b6a6-36373ad777c3",
   "metadata": {},
   "outputs": [],
   "source": [
    "xin_coefs = np.random.random(120)*2.2\n",
    "in_coefs = xin_coefs.reshape((10,12))\n",
    "weights = np.ones(10)"
   ]
  },
  {
   "cell_type": "code",
   "execution_count": null,
   "id": "b515b41e-f860-4f10-87f9-95f0f5af34dd",
   "metadata": {},
   "outputs": [],
   "source": [
    "in_coefs"
   ]
  },
  {
   "cell_type": "code",
   "execution_count": null,
   "id": "fd6d3dcf-7ab4-4167-ac41-b52f6d0295f9",
   "metadata": {},
   "outputs": [],
   "source": [
    "zmin = 0.0\n",
    "zmax = 3.0\n",
    "bum_thr = 0.002\n",
    "sharp = 1.15"
   ]
  },
  {
   "cell_type": "code",
   "execution_count": null,
   "id": "cca7c52a-6cfa-47ef-81c5-780882245ef5",
   "metadata": {},
   "outputs": [],
   "source": [
    "import qp"
   ]
  },
  {
   "cell_type": "code",
   "execution_count": null,
   "id": "e27029d0-d563-40b1-9138-3712e804211e",
   "metadata": {},
   "outputs": [],
   "source": [
    "ens = qp.Ensemble(qp_flexzboost.flexzboost, data=dict(weights=in_coefs, z_min=0.0, z_max=3.0,\n",
    "                                                      bump_threshold=0.000001, sharpen_alpha=1.14,\n",
    "                                                     basis_system_enum_value=1))"
   ]
  },
  {
   "cell_type": "code",
   "execution_count": null,
   "id": "f47aeb27-198d-4801-866b-72bfcddc4b9c",
   "metadata": {},
   "outputs": [],
   "source": [
    "ens[8].plot_native(xlim=(0,3))"
   ]
  },
  {
   "cell_type": "code",
   "execution_count": null,
   "id": "a9d1a91f-ede9-47cd-8d74-87f9f69c259d",
   "metadata": {},
   "outputs": [],
   "source": [
    "xvals = np.linspace(0.001,3,101)"
   ]
  },
  {
   "cell_type": "code",
   "execution_count": null,
   "id": "e7f3250e-fa87-46de-a0ad-0261b1d375b4",
   "metadata": {},
   "outputs": [],
   "source": [
    "ens[8].pdf(xvals)"
   ]
  },
  {
   "cell_type": "code",
   "execution_count": null,
   "id": "0b68fd17-892b-436e-acef-e9e70faa09ab",
   "metadata": {},
   "outputs": [],
   "source": [
    "res = ens.pdf(xvals)"
   ]
  },
  {
   "cell_type": "code",
   "execution_count": null,
   "id": "8db7a289-cf1c-4946-997c-12f4db00e622",
   "metadata": {},
   "outputs": [],
   "source": [
    "res.shape"
   ]
  },
  {
   "cell_type": "code",
   "execution_count": null,
   "id": "74aee887-657f-4958-920a-6eeb6ed897f9",
   "metadata": {},
   "outputs": [],
   "source": [
    "res[8]"
   ]
  },
  {
   "cell_type": "code",
   "execution_count": null,
   "id": "076a5dde-c15a-4e4e-b133-a5584f5b94a8",
   "metadata": {},
   "outputs": [],
   "source": [
    "import matplotlib.pyplot as plt"
   ]
  },
  {
   "cell_type": "code",
   "execution_count": null,
   "id": "b7709ea3-d607-49f3-9389-9a453e541a06",
   "metadata": {},
   "outputs": [],
   "source": [
    "plt.plot(xvals, res[8])"
   ]
  },
  {
   "cell_type": "code",
   "execution_count": null,
   "id": "6868f46f-d167-4b43-886f-d5a682ed23cc",
   "metadata": {},
   "outputs": [],
   "source": [
    "ens[4].pdf(xvals)"
   ]
  },
  {
   "cell_type": "code",
   "execution_count": null,
   "id": "1948fab3",
   "metadata": {},
   "outputs": [],
   "source": [
    "res[4]"
   ]
  },
  {
   "cell_type": "code",
   "execution_count": null,
   "id": "ac4b7ebf",
   "metadata": {},
   "outputs": [],
   "source": []
  }
 ],
 "metadata": {
  "kernelspec": {
   "display_name": "Python 3 (ipykernel)",
   "language": "python",
   "name": "python3"
  },
  "language_info": {
   "codemirror_mode": {
    "name": "ipython",
    "version": 3
   },
   "file_extension": ".py",
   "mimetype": "text/x-python",
   "name": "python",
   "nbconvert_exporter": "python",
   "pygments_lexer": "ipython3",
   "version": "3.10.9"
  }
 },
 "nbformat": 4,
 "nbformat_minor": 5
}
