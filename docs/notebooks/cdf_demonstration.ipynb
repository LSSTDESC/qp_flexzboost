{
 "cells": [
  {
   "attachments": {},
   "cell_type": "markdown",
   "metadata": {},
   "source": [
    "# CDF Exploration notebook for `qp_flexzboost`"
   ]
  },
  {
   "attachments": {},
   "cell_type": "markdown",
   "metadata": {},
   "source": [
    "This notebook demonstrates that as the x grid resolution is increased, the CDF approaches 1.\n",
    "It also shows that the CDF approaches 1 for bump_threshold and sharpen_alpha values of `None` and non-`None`. "
   ]
  },
  {
   "cell_type": "code",
   "execution_count": null,
   "metadata": {},
   "outputs": [],
   "source": [
    "import qp\n",
    "import qp_flexzboost\n",
    "import numpy as np\n",
    "from flexcode.basis_functions import BasisCoefs\n",
    "import matplotlib.pyplot as plt"
   ]
  },
  {
   "cell_type": "code",
   "execution_count": null,
   "metadata": {},
   "outputs": [],
   "source": [
    "# Retrieve some real world example coefficients (i.e. weights) that are used for testing.\n",
    "qp_flexzboost.FlexzboostGen.make_test_data()\n",
    "coefs = qp_flexzboost.FlexzboostGen.test_data['weights']"
   ]
  },
  {
   "cell_type": "code",
   "execution_count": null,
   "metadata": {},
   "outputs": [],
   "source": [
    "# Here we defined a BasisCoefs object with bump_threshold=sharpen_threshold=None. i.e. no bump removal or peak sharpening\n",
    "basis_coefficients = BasisCoefs(coefs,\n",
    "                                basis_system='cosine',\n",
    "                                z_min=0.0,\n",
    "                                z_max=3.0,\n",
    "                                bump_threshold=None,\n",
    "                                sharpen_alpha=None)"
   ]
  },
  {
   "attachments": {},
   "cell_type": "markdown",
   "metadata": {},
   "source": [
    "Next we'll build a `qp.Ensemble` from the test data and `basis_coefficients` object defined above."
   ]
  },
  {
   "cell_type": "code",
   "execution_count": null,
   "metadata": {},
   "outputs": [],
   "source": [
    "fzb = qp.Ensemble(qp_flexzboost.flexzboost_create_from_basis_coef_object,\n",
    "                  data=dict(weights=coefs, basis_coefficients_object=basis_coefficients))"
   ]
  },
  {
   "cell_type": "code",
   "execution_count": null,
   "metadata": {},
   "outputs": [],
   "source": [
    "# Here we specify a particular PDF id, and define a fine and course x grid.\n",
    "pdf_id = 6\n",
    "x_course = np.linspace(0,3,100)\n",
    "x_fine = np.linspace(0,3,30000)"
   ]
  },
  {
   "cell_type": "code",
   "execution_count": null,
   "metadata": {},
   "outputs": [],
   "source": [
    "# Example PDF with no bump removal or peak sharpening\n",
    "qp.plotting.plot_native(fzb[pdf_id], xlim=[0,3])"
   ]
  },
  {
   "attachments": {},
   "cell_type": "markdown",
   "metadata": {},
   "source": [
    "Next we'll plot the numerical CDF of the same distribution using the course and fine x grids. Note that finer grid approaches 1 while, the course grid just exceeds 0.91."
   ]
  },
  {
   "cell_type": "code",
   "execution_count": null,
   "metadata": {},
   "outputs": [],
   "source": [
    "# Demonstrate that CDFs approach 1 as grid resolution increases\n",
    "cdf_course = fzb[pdf_id].cdf(x_course)\n",
    "cdf_fine = fzb[pdf_id].cdf(x_fine)\n",
    "plt.plot(x_course, np.squeeze(cdf_course), label='Course')\n",
    "plt.plot(x_fine, np.squeeze(cdf_fine), label='Fine')\n",
    "plt.legend()\n",
    "\n",
    "print('Max CDF value, course grid:', np.max(cdf_course))\n",
    "print('Max CDF value, fine grid:', np.max(cdf_fine))"
   ]
  },
  {
   "attachments": {},
   "cell_type": "markdown",
   "metadata": {},
   "source": [
    "In this cell, we show that we can dynamically change the bump threshold and sharpening without having to rerun the model."
   ]
  },
  {
   "cell_type": "code",
   "execution_count": null,
   "metadata": {},
   "outputs": [],
   "source": [
    "fzb.dist.bump_threshold = 0.1\n",
    "fzb.dist.sharpen_alpha = 1.2"
   ]
  },
  {
   "attachments": {},
   "cell_type": "markdown",
   "metadata": {},
   "source": [
    "Compare this plot to the PDF plotted in cell 6. It is the same PDF< but with bump thresholds and peak sharpening applied."
   ]
  },
  {
   "cell_type": "code",
   "execution_count": null,
   "metadata": {},
   "outputs": [],
   "source": [
    "qp.plotting.plot_native(fzb[pdf_id], xlim=[0,3])"
   ]
  },
  {
   "attachments": {},
   "cell_type": "markdown",
   "metadata": {},
   "source": [
    "Again, even with bump thresholding and peak sharpening, the numerical CDF will approach 1 for fine x grids. Note though, that the difference between the course and fine grids is more pronounced when including non-`None` bump threshold and sharpen alpha values. Here the fine grid approaches 1, while the course grid approaches 0.8. Recall in the previous example without bump threshold or peak sharpening, the course grid just exceeds 0.91."
   ]
  },
  {
   "cell_type": "code",
   "execution_count": null,
   "metadata": {},
   "outputs": [],
   "source": [
    "cdf_course = fzb[pdf_id].cdf(x_course)\n",
    "cdf_fine = fzb[pdf_id].cdf(x_fine)\n",
    "plt.plot(x_course, np.squeeze(cdf_course), label='Course')\n",
    "plt.plot(x_fine, np.squeeze(cdf_fine), label='Fine')\n",
    "plt.legend()\n",
    "\n",
    "print('Max CDF value, course grid:', np.max(cdf_course))\n",
    "print('Max CDF value, fine grid:', np.max(cdf_fine))"
   ]
  }
 ],
 "metadata": {
  "kernelspec": {
   "display_name": "qp_flexzboost",
   "language": "python",
   "name": "python3"
  },
  "language_info": {
   "codemirror_mode": {
    "name": "ipython",
    "version": 3
   },
   "file_extension": ".py",
   "mimetype": "text/x-python",
   "name": "python",
   "nbconvert_exporter": "python",
   "pygments_lexer": "ipython3",
   "version": "3.10.9"
  }
 },
 "nbformat": 4,
 "nbformat_minor": 2
}
