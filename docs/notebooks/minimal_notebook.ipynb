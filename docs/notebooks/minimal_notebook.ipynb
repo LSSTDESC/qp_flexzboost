{
 "cells": [
  {
   "attachments": {},
   "cell_type": "markdown",
   "metadata": {},
   "source": [
    "# Minimal example of `qp_flexzboost` usage\n",
    "\n",
    "This notebook covers the most basic usage of ``qp_flexzboost``."
   ]
  },
  {
   "cell_type": "code",
   "execution_count": null,
   "metadata": {},
   "outputs": [],
   "source": [
    "import qp\n",
    "import qp_flexzboost"
   ]
  },
  {
   "attachments": {},
   "cell_type": "markdown",
   "metadata": {},
   "source": [
    "For demonstration purposes, we'll use small set of test data included with qp_flexzboost. \n",
    "\n",
    "Here we assign a set of pre-defined basis function weights to the variable `weights`."
   ]
  },
  {
   "cell_type": "code",
   "execution_count": null,
   "metadata": {},
   "outputs": [],
   "source": [
    "# Initailize data typically used for unit testing\n",
    "qp_flexzboost.FlexzboostGen.make_test_data()\n",
    "\n",
    "# Assign the instantiated basis function weights to ``weights``.\n",
    "weights = qp_flexzboost.FlexzboostGen.test_data['weights']"
   ]
  },
  {
   "attachments": {},
   "cell_type": "markdown",
   "metadata": {},
   "source": [
    "Next we instantiate a ``qp.Ensemble`` object that contains the collection of `qp_flexzboost` distribution generators.\n",
    "\n",
    "The values passed in the dictionary to ``data`` are used to define the initial \n",
    "conditions when the model was trained and specify parameters for post-processing.\n",
    "\n",
    "Note: No ML training occurs here. The model that produced the basis function weights \n",
    "was trained earlier. Here we just need to pass the parameters used to train the model."
   ]
  },
  {
   "cell_type": "code",
   "execution_count": null,
   "metadata": {},
   "outputs": [],
   "source": [
    "fzb = qp.Ensemble(\n",
    "    qp_flexzboost.flexzboost, \n",
    "    data=dict(\n",
    "        weights=weights,\n",
    "        basis_system_enum_value=1, # Corresponds to a set of cosine basis functions.\n",
    "        z_min=0.0,\n",
    "        z_max=3.0,\n",
    "        bump_threshold=0.1,\n",
    "        sharpen_alpha=1.2))"
   ]
  },
  {
   "attachments": {},
   "cell_type": "markdown",
   "metadata": {},
   "source": [
    "Now that we have a small ``qp.Ensemble`` instantiated, we can plot an example PDF as show below."
   ]
  },
  {
   "cell_type": "code",
   "execution_count": null,
   "metadata": {},
   "outputs": [],
   "source": [
    "qp.plotting.plot_native(fzb[6], xlim=[0,3])"
   ]
  },
  {
   "attachments": {},
   "cell_type": "markdown",
   "metadata": {},
   "source": [
    "For more detailed examples, please see the other notebooks."
   ]
  }
 ],
 "metadata": {
  "kernelspec": {
   "display_name": "qp_flexzboost",
   "language": "python",
   "name": "python3"
  },
  "language_info": {
   "codemirror_mode": {
    "name": "ipython",
    "version": 3
   },
   "file_extension": ".py",
   "mimetype": "text/x-python",
   "name": "python",
   "nbconvert_exporter": "python",
   "pygments_lexer": "ipython3",
   "version": "3.10.9"
  }
 },
 "nbformat": 4,
 "nbformat_minor": 2
}
